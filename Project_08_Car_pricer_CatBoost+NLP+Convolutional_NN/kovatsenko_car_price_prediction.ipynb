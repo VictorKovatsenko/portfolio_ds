{
 "cells": [
  {
   "cell_type": "markdown",
   "metadata": {},
   "source": [
    "# Car Price prediction\n",
    "\n",
    "<img src=\"https://whatcar.vn/media/2018/09/car-lot-940x470.jpg\"/>\n",
    "\n",
    "## Прогнозирование стоимости автомобиля по характеристикам\n",
    "*Этот ноутбук является шаблоном (Baseline) к текущему соревнованию и не служит готовым решением!*   \n",
    "Вы можете использовать его как основу для построения своего решения.\n",
    "\n",
    "\n",
    "> **Baseline** создается больше как шаблон, где можно посмотреть, как происходит обращение с входящими данными и что нужно получить на выходе. При этом ML начинка может быть достаточно простой. Это помогает быстрее приступить к самому ML, а не тратить ценное время на инженерные задачи. \n",
    "Также baseline является хорошей опорной точкой по метрике. Если наше решение хуже baseline -  мы явно делаем что-то не так и стоит попробовать другой путь) "
   ]
  },
  {
   "cell_type": "code",
   "execution_count": 2,
   "metadata": {
    "_kg_hide-input": true,
    "execution": {
     "iopub.execute_input": "2021-11-07T10:50:36.085519Z",
     "iopub.status.busy": "2021-11-07T10:50:36.085210Z",
     "iopub.status.idle": "2021-11-07T10:50:43.489689Z",
     "shell.execute_reply": "2021-11-07T10:50:43.488861Z",
     "shell.execute_reply.started": "2021-11-07T10:50:36.085490Z"
    }
   },
   "outputs": [],
   "source": [
    "!pip install -q tensorflow==2.3"
   ]
  },
  {
   "cell_type": "code",
   "execution_count": 3,
   "metadata": {
    "_kg_hide-input": true,
    "execution": {
     "iopub.execute_input": "2021-11-07T10:50:43.492749Z",
     "iopub.status.busy": "2021-11-07T10:50:43.492222Z",
     "iopub.status.idle": "2021-11-07T10:50:49.661530Z",
     "shell.execute_reply": "2021-11-07T10:50:49.660735Z",
     "shell.execute_reply.started": "2021-11-07T10:50:43.492705Z"
    }
   },
   "outputs": [],
   "source": [
    "# Augmentation\n",
    "!pip install albumentations -q"
   ]
  },
  {
   "cell_type": "code",
   "execution_count": 4,
   "metadata": {
    "execution": {
     "iopub.execute_input": "2021-11-07T10:50:49.663535Z",
     "iopub.status.busy": "2021-11-07T10:50:49.663192Z",
     "iopub.status.idle": "2021-11-07T10:50:59.467476Z",
     "shell.execute_reply": "2021-11-07T10:50:59.466559Z",
     "shell.execute_reply.started": "2021-11-07T10:50:49.663496Z"
    }
   },
   "outputs": [],
   "source": [
    "!pip install pymorphy2"
   ]
  },
  {
   "cell_type": "code",
   "execution_count": 5,
   "metadata": {
    "_cell_guid": "b1076dfc-b9ad-4769-8c92-a6c4dae69d19",
    "_kg_hide-input": true,
    "_uuid": "8f2839f25d086af736a60e9eeb907d3b93b6e0e5",
    "execution": {
     "iopub.execute_input": "2021-11-07T10:50:59.469983Z",
     "iopub.status.busy": "2021-11-07T10:50:59.469632Z",
     "iopub.status.idle": "2021-11-07T10:51:06.981800Z",
     "shell.execute_reply": "2021-11-07T10:51:06.981011Z",
     "shell.execute_reply.started": "2021-11-07T10:50:59.469946Z"
    }
   },
   "outputs": [],
   "source": [
    "# This Python 3 environment comes with many helpful analytics libraries installed\n",
    "# It is defined by the kaggle/python Docker image: https://github.com/kaggle/docker-python\n",
    "# For example, here's several helpful packages to load\n",
    "\n",
    "import random\n",
    "import numpy as np # linear algebra\n",
    "import pandas as pd # data processing, CSV file I/O (e.g. pd.read_csv)\n",
    "import os\n",
    "import sys\n",
    "import PIL\n",
    "import cv2\n",
    "import re\n",
    "import pymorphy2\n",
    "import nltk\n",
    "\n",
    "# Input data files are available in the read-only \"../input/\" directory\n",
    "# For example, running this (by clicking run or pressing Shift+Enter) will list all files under the input directory\n",
    "\n",
    "from catboost import CatBoostRegressor\n",
    "from sklearn.model_selection import train_test_split\n",
    "from sklearn.preprocessing import MinMaxScaler,RobustScaler\n",
    "\n",
    "# # keras\n",
    "import tensorflow as tf\n",
    "import tensorflow.keras.layers as L\n",
    "from tensorflow.keras.models import Model, Sequential\n",
    "from tensorflow.keras.preprocessing.text import Tokenizer\n",
    "from tensorflow.keras.preprocessing import sequence\n",
    "from tensorflow.keras.callbacks import ModelCheckpoint, EarlyStopping, ReduceLROnPlateau\n",
    "import albumentations\n",
    "\n",
    "# plt\n",
    "import matplotlib.pyplot as plt\n",
    "import seaborn as sns\n",
    "# set default picture size\n",
    "from pylab import rcParams\n",
    "rcParams['figure.figsize'] = 10, 5\n",
    "%config InlineBackend.figure_format = 'svg' \n",
    "%matplotlib inline\n",
    "\n",
    "# Profiling\n",
    "import pandas_profiling\n",
    "# You can write up to 5GB to the current directory (/kaggle/working/) that gets preserved as output when you create a version using \"Save & Run All\" \n",
    "# You can also write temporary files to /kaggle/temp/, but they won't be saved outside of the current session"
   ]
  },
  {
   "cell_type": "code",
   "execution_count": 6,
   "metadata": {
    "_kg_hide-input": true,
    "execution": {
     "iopub.execute_input": "2021-11-07T10:51:06.986257Z",
     "iopub.status.busy": "2021-11-07T10:51:06.985473Z",
     "iopub.status.idle": "2021-11-07T10:51:06.992259Z",
     "shell.execute_reply": "2021-11-07T10:51:06.991414Z",
     "shell.execute_reply.started": "2021-11-07T10:51:06.986226Z"
    }
   },
   "outputs": [],
   "source": [
    "print('Python       :', sys.version.split('\\n')[0])\n",
    "print('Numpy        :', np.__version__)\n",
    "print('Tensorflow   :', tf.__version__)"
   ]
  },
  {
   "cell_type": "code",
   "execution_count": 7,
   "metadata": {
    "_kg_hide-input": true,
    "execution": {
     "iopub.execute_input": "2021-11-07T10:51:06.994873Z",
     "iopub.status.busy": "2021-11-07T10:51:06.994364Z",
     "iopub.status.idle": "2021-11-07T10:51:07.002216Z",
     "shell.execute_reply": "2021-11-07T10:51:07.001294Z",
     "shell.execute_reply.started": "2021-11-07T10:51:06.994836Z"
    }
   },
   "outputs": [],
   "source": [
    "def mape(y_true, y_pred):\n",
    "    return np.mean(np.abs((y_pred-y_true)/y_true))"
   ]
  },
  {
   "cell_type": "code",
   "execution_count": 8,
   "metadata": {
    "_kg_hide-input": true,
    "execution": {
     "iopub.execute_input": "2021-11-07T10:51:07.003962Z",
     "iopub.status.busy": "2021-11-07T10:51:07.003508Z",
     "iopub.status.idle": "2021-11-07T10:51:07.013304Z",
     "shell.execute_reply": "2021-11-07T10:51:07.012417Z",
     "shell.execute_reply.started": "2021-11-07T10:51:07.003924Z"
    }
   },
   "outputs": [],
   "source": [
    "# Random seed\n",
    "RANDOM_SEED = 42\n",
    "np.random.seed(RANDOM_SEED)"
   ]
  },
  {
   "cell_type": "code",
   "execution_count": 9,
   "metadata": {
    "_kg_hide-input": true,
    "execution": {
     "iopub.execute_input": "2021-11-07T10:51:07.015343Z",
     "iopub.status.busy": "2021-11-07T10:51:07.014643Z",
     "iopub.status.idle": "2021-11-07T10:51:09.205512Z",
     "shell.execute_reply": "2021-11-07T10:51:09.204445Z",
     "shell.execute_reply.started": "2021-11-07T10:51:07.015303Z"
    }
   },
   "outputs": [],
   "source": [
    "!pip freeze > requirements.txt"
   ]
  },
  {
   "cell_type": "markdown",
   "metadata": {},
   "source": [
    "# DATA"
   ]
  },
  {
   "cell_type": "markdown",
   "metadata": {},
   "source": [
    "Features types:\n",
    "\n",
    "* bodyType - category\n",
    "* brand - category\n",
    "* color - category\n",
    "* description - text\n",
    "* engineDisplacement - numeric as text\n",
    "* enginePower - numeric as text\n",
    "* fuelType - category\n",
    "* mileage - numeric\n",
    "* modelDate - numeric\n",
    "* model_info - category\n",
    "* name - category, high dimension\n",
    "* numberOfDoors - category\n",
    "* price - numeric\n",
    "* productionDate - numeric\n",
    "* sell_id - picture (address based on sell_id)\n",
    "* vehicleConfiguration - not in use\n",
    "* vehicleTransmission - category\n",
    "* Владельцы - category\n",
    "* Владение - numeric as text\n",
    "* ПТС - category\n",
    "* Привод - category\n",
    "* Руль - category"
   ]
  },
  {
   "cell_type": "code",
   "execution_count": 10,
   "metadata": {
    "_cell_guid": "79c7e3d0-c299-4dcb-8224-4455121ee9b0",
    "_uuid": "d629ff2d2480ee46fbb7e2d37f6b5fab8052498a",
    "execution": {
     "iopub.execute_input": "2021-11-07T10:51:09.208161Z",
     "iopub.status.busy": "2021-11-07T10:51:09.207771Z",
     "iopub.status.idle": "2021-11-07T10:51:09.544310Z",
     "shell.execute_reply": "2021-11-07T10:51:09.543472Z",
     "shell.execute_reply.started": "2021-11-07T10:51:09.208120Z"
    }
   },
   "outputs": [],
   "source": [
    "DATA_DIR = '../input/sf-dst-car-price-prediction-part2/'\n",
    "train = pd.read_csv(DATA_DIR + 'train.csv')\n",
    "test = pd.read_csv(DATA_DIR + 'test.csv')\n",
    "sample_submission = pd.read_csv(DATA_DIR + 'sample_submission.csv')"
   ]
  },
  {
   "cell_type": "code",
   "execution_count": 11,
   "metadata": {
    "execution": {
     "iopub.execute_input": "2021-11-07T10:51:09.546727Z",
     "iopub.status.busy": "2021-11-07T10:51:09.546439Z",
     "iopub.status.idle": "2021-11-07T10:51:09.576941Z",
     "shell.execute_reply": "2021-11-07T10:51:09.576044Z",
     "shell.execute_reply.started": "2021-11-07T10:51:09.546700Z"
    }
   },
   "outputs": [],
   "source": [
    "train.info()"
   ]
  },
  {
   "cell_type": "code",
   "execution_count": 12,
   "metadata": {
    "execution": {
     "iopub.execute_input": "2021-11-07T10:51:09.578678Z",
     "iopub.status.busy": "2021-11-07T10:51:09.578177Z",
     "iopub.status.idle": "2021-11-07T10:51:09.646016Z",
     "shell.execute_reply": "2021-11-07T10:51:09.645362Z",
     "shell.execute_reply.started": "2021-11-07T10:51:09.578640Z"
    }
   },
   "outputs": [],
   "source": [
    "train.nunique()"
   ]
  },
  {
   "cell_type": "markdown",
   "metadata": {},
   "source": [
    "# Model 1: Create base model \n",
    "Avg price according to year and model.\n",
    "We will compare future models with it.\n",
    "\n"
   ]
  },
  {
   "cell_type": "code",
   "execution_count": 13,
   "metadata": {
    "execution": {
     "iopub.execute_input": "2021-11-07T10:51:09.648710Z",
     "iopub.status.busy": "2021-11-07T10:51:09.648401Z",
     "iopub.status.idle": "2021-11-07T10:51:09.658486Z",
     "shell.execute_reply": "2021-11-07T10:51:09.657683Z",
     "shell.execute_reply.started": "2021-11-07T10:51:09.648678Z"
    }
   },
   "outputs": [],
   "source": [
    "# split data\n",
    "data_train, data_test = train_test_split(train, test_size=0.15, shuffle=True, random_state=RANDOM_SEED)"
   ]
  },
  {
   "cell_type": "code",
   "execution_count": 14,
   "metadata": {
    "execution": {
     "iopub.execute_input": "2021-11-07T10:51:09.661549Z",
     "iopub.status.busy": "2021-11-07T10:51:09.660392Z",
     "iopub.status.idle": "2021-11-07T10:51:13.173675Z",
     "shell.execute_reply": "2021-11-07T10:51:13.172861Z",
     "shell.execute_reply.started": "2021-11-07T10:51:09.661509Z"
    }
   },
   "outputs": [],
   "source": [
    "# Base model MEDIAN on model_info and productionDate\n",
    "predicts = []\n",
    "for index, row in pd.DataFrame(data_test[['model_info', 'productionDate']]).iterrows():\n",
    "    query = f\"model_info == '{row[0]}' and productionDate == '{row[1]}'\"\n",
    "    predicts.append(data_train.query(query)['price'].median())\n",
    "\n",
    "# fill na\n",
    "predicts = pd.DataFrame(predicts)\n",
    "predicts = predicts.fillna(predicts.median())\n",
    "\n",
    "# round\n",
    "predicts = (predicts // 1000) * 1000\n",
    "\n",
    "# metric MAPE\n",
    "print(f\"MAPE: {(mape(data_test['price'], predicts.values[:, 0]))*100:0.2f}%\")"
   ]
  },
  {
   "cell_type": "markdown",
   "metadata": {},
   "source": [
    "# EDA"
   ]
  },
  {
   "cell_type": "markdown",
   "metadata": {},
   "source": [
    "Numeric distributions:"
   ]
  },
  {
   "cell_type": "code",
   "execution_count": 15,
   "metadata": {
    "_kg_hide-input": true,
    "execution": {
     "iopub.execute_input": "2021-11-07T10:51:13.175276Z",
     "iopub.status.busy": "2021-11-07T10:51:13.174940Z",
     "iopub.status.idle": "2021-11-07T10:51:13.961386Z",
     "shell.execute_reply": "2021-11-07T10:51:13.960671Z",
     "shell.execute_reply.started": "2021-11-07T10:51:13.175248Z"
    }
   },
   "outputs": [],
   "source": [
    "# numeric features distribution\n",
    "def visualize_distributions(titles_values_dict):\n",
    "  columns = min(3, len(titles_values_dict))\n",
    "  rows = (len(titles_values_dict) - 1) // columns + 1\n",
    "  fig = plt.figure(figsize = (columns * 6, rows * 4))\n",
    "  for i, (title, values) in enumerate(titles_values_dict.items()):\n",
    "    hist, bins = np.histogram(values, bins = 20)\n",
    "    ax = fig.add_subplot(rows, columns, i + 1)\n",
    "    ax.bar(bins[:-1], hist, width = (bins[1] - bins[0]) * 0.7)\n",
    "    ax.set_title(title)\n",
    "  plt.show()\n",
    "\n",
    "visualize_distributions({\n",
    "    'mileage': train['mileage'].dropna(),\n",
    "    'modelDate': train['modelDate'].dropna(),\n",
    "    'productionDate': train['productionDate'].dropna()\n",
    "})"
   ]
  },
  {
   "cell_type": "markdown",
   "metadata": {},
   "source": [
    "Summary:\n",
    "* CatBoost can work with current features, but we need to normalize them to work with NN."
   ]
  },
  {
   "cell_type": "markdown",
   "metadata": {},
   "source": [
    "# PreProcessing"
   ]
  },
  {
   "cell_type": "code",
   "execution_count": 16,
   "metadata": {
    "execution": {
     "iopub.execute_input": "2021-11-07T10:51:13.963094Z",
     "iopub.status.busy": "2021-11-07T10:51:13.962743Z",
     "iopub.status.idle": "2021-11-07T10:51:13.968500Z",
     "shell.execute_reply": "2021-11-07T10:51:13.967346Z",
     "shell.execute_reply.started": "2021-11-07T10:51:13.963065Z"
    }
   },
   "outputs": [],
   "source": [
    "# categorical features\n",
    "categorical_features = ['bodyType', 'brand', 'color', 'engineDisplacement', 'enginePower', 'fuelType', 'model_info', 'name',\n",
    "  'numberOfDoors', 'vehicleTransmission', 'Владельцы', 'Владение', 'ПТС', 'Привод', 'Руль']\n",
    "\n",
    "# numeric features\n",
    "numerical_features = ['mileage', 'modelDate', 'productionDate']"
   ]
  },
  {
   "cell_type": "code",
   "execution_count": 17,
   "metadata": {
    "execution": {
     "iopub.execute_input": "2021-11-07T10:51:13.970869Z",
     "iopub.status.busy": "2021-11-07T10:51:13.970289Z",
     "iopub.status.idle": "2021-11-07T10:51:13.994264Z",
     "shell.execute_reply": "2021-11-07T10:51:13.993439Z",
     "shell.execute_reply.started": "2021-11-07T10:51:13.970812Z"
    }
   },
   "outputs": [],
   "source": [
    "# concat train and test in one dataset\n",
    "train['sample'] = 1 # train\n",
    "test['sample'] = 0 # test\n",
    "test['price'] = 0 # fill price in test with \"0\"\n",
    "\n",
    "data = test.append(train, sort=False).reset_index(drop=True)\n",
    "print(train.shape, test.shape, data.shape)"
   ]
  },
  {
   "cell_type": "code",
   "execution_count": 18,
   "metadata": {
    "execution": {
     "iopub.execute_input": "2021-11-07T10:51:13.996317Z",
     "iopub.status.busy": "2021-11-07T10:51:13.995965Z",
     "iopub.status.idle": "2021-11-07T10:51:14.024386Z",
     "shell.execute_reply": "2021-11-07T10:51:14.023429Z",
     "shell.execute_reply.started": "2021-11-07T10:51:13.996282Z"
    }
   },
   "outputs": [],
   "source": [
    "data.info()"
   ]
  },
  {
   "cell_type": "code",
   "execution_count": 19,
   "metadata": {
    "execution": {
     "iopub.execute_input": "2021-11-07T10:51:14.026203Z",
     "iopub.status.busy": "2021-11-07T10:51:14.025713Z",
     "iopub.status.idle": "2021-11-07T10:51:14.031775Z",
     "shell.execute_reply": "2021-11-07T10:51:14.030569Z",
     "shell.execute_reply.started": "2021-11-07T10:51:14.026168Z"
    }
   },
   "outputs": [],
   "source": [
    "# Create temporarary df to work with features, then we will include preprocessing in one function\n",
    "df = data.copy()"
   ]
  },
  {
   "cell_type": "code",
   "execution_count": 20,
   "metadata": {
    "execution": {
     "iopub.execute_input": "2021-11-07T10:51:14.033636Z",
     "iopub.status.busy": "2021-11-07T10:51:14.033201Z",
     "iopub.status.idle": "2021-11-07T10:51:45.042264Z",
     "shell.execute_reply": "2021-11-07T10:51:45.041231Z",
     "shell.execute_reply.started": "2021-11-07T10:51:14.033572Z"
    }
   },
   "outputs": [],
   "source": [
    "# Use fast profiling package to explore data\n",
    "pandas_profiling.ProfileReport(df)"
   ]
  },
  {
   "cell_type": "code",
   "execution_count": 21,
   "metadata": {
    "execution": {
     "iopub.execute_input": "2021-11-07T10:51:45.044002Z",
     "iopub.status.busy": "2021-11-07T10:51:45.043639Z",
     "iopub.status.idle": "2021-11-07T10:51:45.055444Z",
     "shell.execute_reply": "2021-11-07T10:51:45.054684Z",
     "shell.execute_reply.started": "2021-11-07T10:51:45.043958Z"
    }
   },
   "outputs": [],
   "source": [
    "# BodyType\n",
    "df.bodyType.value_counts()"
   ]
  },
  {
   "cell_type": "code",
   "execution_count": 22,
   "metadata": {
    "execution": {
     "iopub.execute_input": "2021-11-07T10:51:45.057043Z",
     "iopub.status.busy": "2021-11-07T10:51:45.056587Z",
     "iopub.status.idle": "2021-11-07T10:51:45.077169Z",
     "shell.execute_reply": "2021-11-07T10:51:45.076341Z",
     "shell.execute_reply.started": "2021-11-07T10:51:45.057008Z"
    }
   },
   "outputs": [],
   "source": [
    "# Keep first word only\n",
    "df['bodyType'] = df.bodyType.apply(lambda x: x.split(' ')[0].lower())"
   ]
  },
  {
   "cell_type": "code",
   "execution_count": 23,
   "metadata": {
    "execution": {
     "iopub.execute_input": "2021-11-07T10:51:45.078898Z",
     "iopub.status.busy": "2021-11-07T10:51:45.078400Z",
     "iopub.status.idle": "2021-11-07T10:51:45.090106Z",
     "shell.execute_reply": "2021-11-07T10:51:45.089225Z",
     "shell.execute_reply.started": "2021-11-07T10:51:45.078860Z"
    }
   },
   "outputs": [],
   "source": [
    "df.bodyType.value_counts()"
   ]
  },
  {
   "cell_type": "code",
   "execution_count": 24,
   "metadata": {
    "execution": {
     "iopub.execute_input": "2021-11-07T10:51:45.094857Z",
     "iopub.status.busy": "2021-11-07T10:51:45.094362Z",
     "iopub.status.idle": "2021-11-07T10:51:45.102402Z",
     "shell.execute_reply": "2021-11-07T10:51:45.101442Z",
     "shell.execute_reply.started": "2021-11-07T10:51:45.094821Z"
    }
   },
   "outputs": [],
   "source": [
    "# EngineDisplacement\n",
    "# Here we have undefined LTr but let's keep it as separate category\n",
    "df.engineDisplacement.unique()"
   ]
  },
  {
   "cell_type": "code",
   "execution_count": 25,
   "metadata": {
    "execution": {
     "iopub.execute_input": "2021-11-07T10:51:45.104759Z",
     "iopub.status.busy": "2021-11-07T10:51:45.104004Z",
     "iopub.status.idle": "2021-11-07T10:51:45.117988Z",
     "shell.execute_reply": "2021-11-07T10:51:45.117250Z",
     "shell.execute_reply.started": "2021-11-07T10:51:45.104717Z"
    }
   },
   "outputs": [],
   "source": [
    "# EnginePower\n",
    "# Remove 'N12' and make it as int\n",
    "df['enginePower'] = df['enginePower'].apply(lambda x: x[:-4]).astype('int')"
   ]
  },
  {
   "cell_type": "code",
   "execution_count": 26,
   "metadata": {
    "execution": {
     "iopub.execute_input": "2021-11-07T10:51:45.119529Z",
     "iopub.status.busy": "2021-11-07T10:51:45.119084Z",
     "iopub.status.idle": "2021-11-07T10:51:45.420881Z",
     "shell.execute_reply": "2021-11-07T10:51:45.419973Z",
     "shell.execute_reply.started": "2021-11-07T10:51:45.119495Z"
    }
   },
   "outputs": [],
   "source": [
    "# Dist plot\n",
    "df.enginePower.hist().barh"
   ]
  },
  {
   "cell_type": "code",
   "execution_count": 27,
   "metadata": {
    "execution": {
     "iopub.execute_input": "2021-11-07T10:51:45.422642Z",
     "iopub.status.busy": "2021-11-07T10:51:45.422126Z",
     "iopub.status.idle": "2021-11-07T10:51:45.430142Z",
     "shell.execute_reply": "2021-11-07T10:51:45.429168Z",
     "shell.execute_reply.started": "2021-11-07T10:51:45.422589Z"
    }
   },
   "outputs": [],
   "source": [
    "# Name\n",
    "df.name.head()"
   ]
  },
  {
   "cell_type": "code",
   "execution_count": 28,
   "metadata": {
    "execution": {
     "iopub.execute_input": "2021-11-07T10:51:45.432352Z",
     "iopub.status.busy": "2021-11-07T10:51:45.431942Z",
     "iopub.status.idle": "2021-11-07T10:51:45.446156Z",
     "shell.execute_reply": "2021-11-07T10:51:45.445482Z",
     "shell.execute_reply.started": "2021-11-07T10:51:45.432314Z"
    }
   },
   "outputs": [],
   "source": [
    "# Name has the same features as other columns. Let's create bool variable xDrive. If car has it - 1 otherwise \"0\"\n",
    "df['xdrive'] = df['name'].apply(lambda x: 1 if 'xDrive' in x else 0)"
   ]
  },
  {
   "cell_type": "code",
   "execution_count": 29,
   "metadata": {
    "execution": {
     "iopub.execute_input": "2021-11-07T10:51:45.449139Z",
     "iopub.status.busy": "2021-11-07T10:51:45.448897Z",
     "iopub.status.idle": "2021-11-07T10:51:45.457315Z",
     "shell.execute_reply": "2021-11-07T10:51:45.456403Z",
     "shell.execute_reply.started": "2021-11-07T10:51:45.449115Z"
    }
   },
   "outputs": [],
   "source": [
    "df['xdrive'].value_counts()"
   ]
  },
  {
   "cell_type": "code",
   "execution_count": 30,
   "metadata": {
    "execution": {
     "iopub.execute_input": "2021-11-07T10:51:45.459548Z",
     "iopub.status.busy": "2021-11-07T10:51:45.458962Z",
     "iopub.status.idle": "2021-11-07T10:51:45.473891Z",
     "shell.execute_reply": "2021-11-07T10:51:45.472943Z",
     "shell.execute_reply.started": "2021-11-07T10:51:45.459511Z"
    }
   },
   "outputs": [],
   "source": [
    "# Владельцы keep only number and remove words\n",
    "df['Владельцы'].fillna('3 или более', inplace=True)\n",
    "df['Владельцы'] = df['Владельцы'].apply(\n",
    "    lambda x: int(x[0])).astype('int')"
   ]
  },
  {
   "cell_type": "code",
   "execution_count": 31,
   "metadata": {
    "execution": {
     "iopub.execute_input": "2021-11-07T10:51:45.476217Z",
     "iopub.status.busy": "2021-11-07T10:51:45.475745Z",
     "iopub.status.idle": "2021-11-07T10:51:45.604510Z",
     "shell.execute_reply": "2021-11-07T10:51:45.603706Z",
     "shell.execute_reply.started": "2021-11-07T10:51:45.476177Z"
    }
   },
   "outputs": [],
   "source": [
    "sns.countplot(x = 'Владельцы', data = data)"
   ]
  },
  {
   "cell_type": "code",
   "execution_count": 32,
   "metadata": {
    "execution": {
     "iopub.execute_input": "2021-11-07T10:51:45.606207Z",
     "iopub.status.busy": "2021-11-07T10:51:45.605712Z",
     "iopub.status.idle": "2021-11-07T10:51:45.611799Z",
     "shell.execute_reply": "2021-11-07T10:51:45.610707Z",
     "shell.execute_reply.started": "2021-11-07T10:51:45.606158Z"
    }
   },
   "outputs": [],
   "source": [
    "# New feature age \n",
    "df['age'] = 2021 - df['productionDate']"
   ]
  },
  {
   "cell_type": "code",
   "execution_count": 33,
   "metadata": {
    "execution": {
     "iopub.execute_input": "2021-11-07T10:51:45.613821Z",
     "iopub.status.busy": "2021-11-07T10:51:45.613379Z",
     "iopub.status.idle": "2021-11-07T10:51:45.621027Z",
     "shell.execute_reply": "2021-11-07T10:51:45.619881Z",
     "shell.execute_reply.started": "2021-11-07T10:51:45.613782Z"
    }
   },
   "outputs": [],
   "source": [
    "# New feature usage\n",
    "df['usage'] = df['mileage']/df['age']"
   ]
  },
  {
   "cell_type": "code",
   "execution_count": 34,
   "metadata": {
    "execution": {
     "iopub.execute_input": "2021-11-07T10:51:45.623254Z",
     "iopub.status.busy": "2021-11-07T10:51:45.622826Z",
     "iopub.status.idle": "2021-11-07T10:51:46.320136Z",
     "shell.execute_reply": "2021-11-07T10:51:46.319143Z",
     "shell.execute_reply.started": "2021-11-07T10:51:45.623215Z"
    }
   },
   "outputs": [],
   "source": [
    "# Correlation heatmap\n",
    "fig, ax = plt.subplots(1, 1, figsize=(10, 5))\n",
    "ax = sns.heatmap(df.corr(),fmt='.1g',annot=True)"
   ]
  },
  {
   "cell_type": "markdown",
   "metadata": {},
   "source": [
    "##### High correlation betwenn age, modelDate, productionDate Let's remove last 2"
   ]
  },
  {
   "cell_type": "code",
   "execution_count": 55,
   "metadata": {
    "execution": {
     "iopub.execute_input": "2021-11-07T10:56:37.774031Z",
     "iopub.status.busy": "2021-11-07T10:56:37.773690Z",
     "iopub.status.idle": "2021-11-07T10:56:37.779398Z",
     "shell.execute_reply": "2021-11-07T10:56:37.778552Z",
     "shell.execute_reply.started": "2021-11-07T10:56:37.774000Z"
    }
   },
   "outputs": [],
   "source": [
    "#  UPDATE CAT and numeric features\n",
    "# categorical features\n",
    "categorical_features = ['bodyType', 'brand', 'color', 'engineDisplacement', 'enginePower','fuelType',\n",
    "                        'model_info', 'numberOfDoors', 'vehicleTransmission', 'Владельцы', 'ПТС', \n",
    "                        'Привод', 'Руль']\n",
    "\n",
    "# numeric features\n",
    "numerical_features = ['mileage', 'modelDate', 'productionDate', 'age', 'usage', 'enginePower']\n",
    "\n",
    "# bool\n",
    "bool_features = ['xdrive']"
   ]
  },
  {
   "cell_type": "code",
   "execution_count": 58,
   "metadata": {
    "execution": {
     "iopub.execute_input": "2021-11-07T10:57:06.819348Z",
     "iopub.status.busy": "2021-11-07T10:57:06.818964Z",
     "iopub.status.idle": "2021-11-07T10:57:06.833784Z",
     "shell.execute_reply": "2021-11-07T10:57:06.832781Z",
     "shell.execute_reply.started": "2021-11-07T10:57:06.819313Z"
    }
   },
   "outputs": [],
   "source": [
    "def preproc_data(df_input):\n",
    "    '''includes several functions to pre-process the predictor data.'''\n",
    "    \n",
    "    df_output = df_input.copy()\n",
    "    \n",
    "    # ################### 1. Preprocessing ############################################################## \n",
    "    # Keep first word only for bodyType\n",
    "    df_output['bodyType'] = df_output.bodyType.apply(lambda x: x.split(' ')[0].lower())\n",
    "    # Changes in enginePower\n",
    "    df_output['enginePower'] = df_output['enginePower'].apply(lambda x: x[:-4]).astype('int')\n",
    "    # xdrive based on name\n",
    "    df_output['xdrive'] = df_output['name'].apply(lambda x: 1 if 'xDrive' in x else 0)\n",
    "    # Владельцы keep only number and remove words\n",
    "    df_output['Владельцы'].fillna('3 или более', inplace=True)\n",
    "    df_output['Владельцы'] = df_output['Владельцы'].apply(\n",
    "        lambda x: int(x[0])).astype('int')\n",
    "    \n",
    "    \n",
    "    # ################### Feature Engineering ####################################################\n",
    "    # New features age and usage\n",
    "    df_output['age'] = 2021 - df_output['productionDate']\n",
    "    df_output['usage'] = df_output['mileage']/df_output['age']\n",
    "    \n",
    "    \n",
    "    # ################### Numerical Features ############################################################## \n",
    "    # Fill nan \n",
    "    for column in numerical_features:\n",
    "        df_output[column].fillna(df_output[column].median(), inplace=True)\n",
    "    \n",
    "    # Logarithm option for some columns (better to use mileage only)\n",
    "    df_output['mileage'] = np.log(df_output['mileage'])\n",
    "#     df_output['age'] = np.log(df_output['age'])\n",
    "#     df_output['usage'] = np.log(df_output['usage'])\n",
    "#     df_output['enginePower'] = np.log(df_output['enginePower'])\n",
    "    \n",
    "    # data normalization\n",
    "    scaler = RobustScaler() # deals good with outliers like in our data\n",
    "    for column in numerical_features:\n",
    "        df_output[column] = scaler.fit_transform(df_output[[column]])[:,0]\n",
    "    \n",
    "    \n",
    "    # ################### Categorical Features ############################################################## \n",
    "    # Label Encoding\n",
    "    for column in categorical_features:\n",
    "        df_output[column] = df_output[column].astype('category').cat.codes\n",
    "        \n",
    "    # One-Hot Encoding: get_dummies.\n",
    "    df_output = pd.get_dummies(df_output, columns=categorical_features, dummy_na=False)\n",
    "    \n",
    "    \n",
    "    # ################### Drop columns #################################################### \n",
    "    df_output.drop(['vehicleConfiguration','description','sell_id','modelDate','age', 'name', 'Владение'], axis = 1, inplace=True)\n",
    "    \n",
    "    return df_output"
   ]
  },
  {
   "cell_type": "code",
   "execution_count": 59,
   "metadata": {
    "execution": {
     "iopub.execute_input": "2021-11-07T10:57:09.488001Z",
     "iopub.status.busy": "2021-11-07T10:57:09.487675Z",
     "iopub.status.idle": "2021-11-07T10:57:09.609518Z",
     "shell.execute_reply": "2021-11-07T10:57:09.608588Z",
     "shell.execute_reply.started": "2021-11-07T10:57:09.487972Z"
    }
   },
   "outputs": [],
   "source": [
    "# Check what we have\n",
    "df_preproc = preproc_data(data)\n",
    "df_preproc.sample(10)"
   ]
  },
  {
   "cell_type": "code",
   "execution_count": 60,
   "metadata": {
    "execution": {
     "iopub.execute_input": "2021-11-07T10:57:15.408777Z",
     "iopub.status.busy": "2021-11-07T10:57:15.408414Z",
     "iopub.status.idle": "2021-11-07T10:57:15.434132Z",
     "shell.execute_reply": "2021-11-07T10:57:15.433306Z",
     "shell.execute_reply.started": "2021-11-07T10:57:15.408741Z"
    }
   },
   "outputs": [],
   "source": [
    "df_preproc.info()"
   ]
  },
  {
   "cell_type": "code",
   "execution_count": 61,
   "metadata": {
    "execution": {
     "iopub.execute_input": "2021-11-07T10:57:18.301019Z",
     "iopub.status.busy": "2021-11-07T10:57:18.300679Z",
     "iopub.status.idle": "2021-11-07T10:57:18.307849Z",
     "shell.execute_reply": "2021-11-07T10:57:18.306771Z",
     "shell.execute_reply.started": "2021-11-07T10:57:18.300987Z"
    }
   },
   "outputs": [],
   "source": [
    "# Check xdrive\n",
    "df_preproc['xdrive']"
   ]
  },
  {
   "cell_type": "markdown",
   "metadata": {},
   "source": [
    "## Split data"
   ]
  },
  {
   "cell_type": "code",
   "execution_count": 62,
   "metadata": {
    "execution": {
     "iopub.execute_input": "2021-11-07T10:57:24.949809Z",
     "iopub.status.busy": "2021-11-07T10:57:24.949342Z",
     "iopub.status.idle": "2021-11-07T10:57:24.992387Z",
     "shell.execute_reply": "2021-11-07T10:57:24.991675Z",
     "shell.execute_reply.started": "2021-11-07T10:57:24.949758Z"
    }
   },
   "outputs": [],
   "source": [
    "# Return test part back\n",
    "train_data = df_preproc.query('sample == 1').drop(['sample'], axis=1)\n",
    "test_data = df_preproc.query('sample == 0').drop(['sample'], axis=1)\n",
    "\n",
    "y = train_data.price.values     # target\n",
    "X = train_data.drop(['price'], axis=1)\n",
    "X_sub = test_data.drop(['price'], axis=1)"
   ]
  },
  {
   "cell_type": "code",
   "execution_count": 63,
   "metadata": {
    "execution": {
     "iopub.execute_input": "2021-11-07T10:57:30.038636Z",
     "iopub.status.busy": "2021-11-07T10:57:30.037937Z",
     "iopub.status.idle": "2021-11-07T10:57:30.088467Z",
     "shell.execute_reply": "2021-11-07T10:57:30.087531Z",
     "shell.execute_reply.started": "2021-11-07T10:57:30.038577Z"
    }
   },
   "outputs": [],
   "source": [
    "test_data.info()"
   ]
  },
  {
   "cell_type": "markdown",
   "metadata": {},
   "source": [
    "# Model 2: CatBoostRegressor"
   ]
  },
  {
   "cell_type": "code",
   "execution_count": 64,
   "metadata": {
    "execution": {
     "iopub.execute_input": "2021-11-07T10:57:31.852955Z",
     "iopub.status.busy": "2021-11-07T10:57:31.852574Z",
     "iopub.status.idle": "2021-11-07T10:57:31.867483Z",
     "shell.execute_reply": "2021-11-07T10:57:31.866773Z",
     "shell.execute_reply.started": "2021-11-07T10:57:31.852923Z"
    }
   },
   "outputs": [],
   "source": [
    "X_train, X_test, y_train, y_test = train_test_split(X, y, test_size=0.15, shuffle=True, random_state=RANDOM_SEED)"
   ]
  },
  {
   "cell_type": "code",
   "execution_count": 65,
   "metadata": {
    "_kg_hide-output": true,
    "execution": {
     "iopub.execute_input": "2021-11-07T10:57:32.772693Z",
     "iopub.status.busy": "2021-11-07T10:57:32.772359Z",
     "iopub.status.idle": "2021-11-07T10:57:55.350726Z",
     "shell.execute_reply": "2021-11-07T10:57:55.349705Z",
     "shell.execute_reply.started": "2021-11-07T10:57:32.772661Z"
    }
   },
   "outputs": [],
   "source": [
    "model = CatBoostRegressor(iterations = 5000,\n",
    "                          #depth=10,\n",
    "                          #learning_rate = 0.5,\n",
    "                          random_seed = RANDOM_SEED,\n",
    "                          eval_metric='MAPE',\n",
    "                          custom_metric=['RMSE', 'MAE'],\n",
    "                          od_wait=500,\n",
    "                          #task_type='GPU',\n",
    "                         )\n",
    "model.fit(X_train, np.log(y_train),\n",
    "         eval_set=(X_test, np.log(y_test)),\n",
    "         verbose_eval=100,\n",
    "         use_best_model=True,\n",
    "         plot=True\n",
    "         )"
   ]
  },
  {
   "cell_type": "code",
   "execution_count": 66,
   "metadata": {
    "execution": {
     "iopub.execute_input": "2021-11-07T10:57:55.352929Z",
     "iopub.status.busy": "2021-11-07T10:57:55.352394Z",
     "iopub.status.idle": "2021-11-07T10:57:55.389957Z",
     "shell.execute_reply": "2021-11-07T10:57:55.388984Z",
     "shell.execute_reply.started": "2021-11-07T10:57:55.352889Z"
    }
   },
   "outputs": [],
   "source": [
    "test_predict_catboost = np.exp(model.predict(X_test))\n",
    "print(f\"TEST mape: {(mape(y_test, test_predict_catboost))*100:0.2f}%\")"
   ]
  },
  {
   "cell_type": "markdown",
   "metadata": {},
   "source": [
    "#### Good MAPE 11.69% after data preprocessing"
   ]
  },
  {
   "cell_type": "markdown",
   "metadata": {},
   "source": [
    "### Submission"
   ]
  },
  {
   "cell_type": "code",
   "execution_count": 67,
   "metadata": {
    "execution": {
     "iopub.execute_input": "2021-11-07T10:58:13.806722Z",
     "iopub.status.busy": "2021-11-07T10:58:13.806360Z",
     "iopub.status.idle": "2021-11-07T10:58:14.229865Z",
     "shell.execute_reply": "2021-11-07T10:58:14.228783Z",
     "shell.execute_reply.started": "2021-11-07T10:58:13.806689Z"
    }
   },
   "outputs": [],
   "source": [
    "sub_predict_catboost = np.exp(model.predict(X_sub))\n",
    "sample_submission['price'] = sub_predict_catboost\n",
    "sample_submission.to_csv('catboost_submission.csv', index=False)"
   ]
  },
  {
   "cell_type": "markdown",
   "metadata": {},
   "source": [
    "# Model 3: Tabular NN"
   ]
  },
  {
   "cell_type": "markdown",
   "metadata": {},
   "source": [
    "Build simple network:"
   ]
  },
  {
   "cell_type": "code",
   "execution_count": 68,
   "metadata": {
    "execution": {
     "iopub.execute_input": "2021-11-07T10:58:27.446709Z",
     "iopub.status.busy": "2021-11-07T10:58:27.446353Z",
     "iopub.status.idle": "2021-11-07T10:58:27.472357Z",
     "shell.execute_reply": "2021-11-07T10:58:27.471527Z",
     "shell.execute_reply.started": "2021-11-07T10:58:27.446672Z"
    }
   },
   "outputs": [],
   "source": [
    "X_train.head(5)"
   ]
  },
  {
   "cell_type": "markdown",
   "metadata": {},
   "source": [
    "## Simple Dense NN"
   ]
  },
  {
   "cell_type": "code",
   "execution_count": 69,
   "metadata": {
    "execution": {
     "iopub.execute_input": "2021-11-07T10:58:29.816949Z",
     "iopub.status.busy": "2021-11-07T10:58:29.816569Z",
     "iopub.status.idle": "2021-11-07T10:58:31.820727Z",
     "shell.execute_reply": "2021-11-07T10:58:31.819905Z",
     "shell.execute_reply.started": "2021-11-07T10:58:29.816918Z"
    }
   },
   "outputs": [],
   "source": [
    "model = Sequential()\n",
    "model.add(L.Dense(512, input_dim=X_train.shape[1], activation=\"relu\"))\n",
    "model.add(L.Dropout(0.5))\n",
    "model.add(L.Dense(256, activation=\"relu\"))\n",
    "model.add(L.Dropout(0.5))\n",
    "model.add(L.Dense(1, activation=\"linear\"))"
   ]
  },
  {
   "cell_type": "code",
   "execution_count": 70,
   "metadata": {
    "execution": {
     "iopub.execute_input": "2021-11-07T10:58:31.823882Z",
     "iopub.status.busy": "2021-11-07T10:58:31.823245Z",
     "iopub.status.idle": "2021-11-07T10:58:31.833299Z",
     "shell.execute_reply": "2021-11-07T10:58:31.832620Z",
     "shell.execute_reply.started": "2021-11-07T10:58:31.823842Z"
    }
   },
   "outputs": [],
   "source": [
    "model.summary()"
   ]
  },
  {
   "cell_type": "code",
   "execution_count": 71,
   "metadata": {
    "execution": {
     "iopub.execute_input": "2021-11-07T10:58:31.836613Z",
     "iopub.status.busy": "2021-11-07T10:58:31.836353Z",
     "iopub.status.idle": "2021-11-07T10:58:31.852427Z",
     "shell.execute_reply": "2021-11-07T10:58:31.851577Z",
     "shell.execute_reply.started": "2021-11-07T10:58:31.836573Z"
    }
   },
   "outputs": [],
   "source": [
    "# Compile model\n",
    "optimizer = tf.keras.optimizers.Adam(0.01)\n",
    "model.compile(loss='MAPE',optimizer=optimizer, metrics=['MAPE'])"
   ]
  },
  {
   "cell_type": "code",
   "execution_count": 72,
   "metadata": {
    "execution": {
     "iopub.execute_input": "2021-11-07T10:58:31.855697Z",
     "iopub.status.busy": "2021-11-07T10:58:31.855424Z",
     "iopub.status.idle": "2021-11-07T10:58:31.862069Z",
     "shell.execute_reply": "2021-11-07T10:58:31.861385Z",
     "shell.execute_reply.started": "2021-11-07T10:58:31.855666Z"
    }
   },
   "outputs": [],
   "source": [
    "checkpoint = ModelCheckpoint('../working/best_model.hdf5' , monitor=['val_MAPE'], \n",
    "                             verbose=0  , mode='min')\n",
    "earlystop = EarlyStopping(monitor='val_MAPE', patience=50, restore_best_weights=True,)\n",
    "callbacks_list = [checkpoint, earlystop]"
   ]
  },
  {
   "cell_type": "markdown",
   "metadata": {},
   "source": [
    "### Fit"
   ]
  },
  {
   "cell_type": "code",
   "execution_count": 73,
   "metadata": {
    "execution": {
     "iopub.execute_input": "2021-11-07T10:58:36.024934Z",
     "iopub.status.busy": "2021-11-07T10:58:36.017050Z",
     "iopub.status.idle": "2021-11-07T10:59:11.338837Z",
     "shell.execute_reply": "2021-11-07T10:59:11.337856Z",
     "shell.execute_reply.started": "2021-11-07T10:58:36.024873Z"
    }
   },
   "outputs": [],
   "source": [
    "history = model.fit(X_train, y_train,\n",
    "                    batch_size=512,\n",
    "                    epochs=500, \n",
    "                    validation_data=(X_test, y_test),\n",
    "                    callbacks=callbacks_list,\n",
    "                    verbose=0,\n",
    "                   )"
   ]
  },
  {
   "cell_type": "code",
   "execution_count": 74,
   "metadata": {
    "execution": {
     "iopub.execute_input": "2021-11-07T10:59:11.341095Z",
     "iopub.status.busy": "2021-11-07T10:59:11.340739Z",
     "iopub.status.idle": "2021-11-07T10:59:11.600993Z",
     "shell.execute_reply": "2021-11-07T10:59:11.600036Z",
     "shell.execute_reply.started": "2021-11-07T10:59:11.341048Z"
    }
   },
   "outputs": [],
   "source": [
    "plt.title('Loss')\n",
    "plt.plot(history.history['MAPE'], label='train')\n",
    "plt.plot(history.history['val_MAPE'], label='test')\n",
    "plt.show();"
   ]
  },
  {
   "cell_type": "code",
   "execution_count": 75,
   "metadata": {
    "execution": {
     "iopub.execute_input": "2021-11-07T10:59:11.603230Z",
     "iopub.status.busy": "2021-11-07T10:59:11.602637Z",
     "iopub.status.idle": "2021-11-07T10:59:11.641820Z",
     "shell.execute_reply": "2021-11-07T10:59:11.641003Z",
     "shell.execute_reply.started": "2021-11-07T10:59:11.603164Z"
    }
   },
   "outputs": [],
   "source": [
    "model.load_weights('../working/best_model.hdf5')\n",
    "model.save('../working/nn_1.hdf5')"
   ]
  },
  {
   "cell_type": "code",
   "execution_count": 76,
   "metadata": {
    "execution": {
     "iopub.execute_input": "2021-11-07T10:59:11.644102Z",
     "iopub.status.busy": "2021-11-07T10:59:11.643546Z",
     "iopub.status.idle": "2021-11-07T10:59:11.794308Z",
     "shell.execute_reply": "2021-11-07T10:59:11.793293Z",
     "shell.execute_reply.started": "2021-11-07T10:59:11.644053Z"
    }
   },
   "outputs": [],
   "source": [
    "test_predict_nn1 = model.predict(X_test)\n",
    "print(f\"TEST mape: {(mape(y_test, test_predict_nn1[:,0]))*100:0.2f}%\")"
   ]
  },
  {
   "cell_type": "code",
   "execution_count": 77,
   "metadata": {
    "execution": {
     "iopub.execute_input": "2021-11-07T10:59:11.798218Z",
     "iopub.status.busy": "2021-11-07T10:59:11.797667Z",
     "iopub.status.idle": "2021-11-07T10:59:11.899091Z",
     "shell.execute_reply": "2021-11-07T10:59:11.898210Z",
     "shell.execute_reply.started": "2021-11-07T10:59:11.798181Z"
    }
   },
   "outputs": [],
   "source": [
    "sub_predict_nn1 = model.predict(X_sub)\n",
    "sample_submission['price'] = sub_predict_nn1[:,0]\n",
    "sample_submission.to_csv('nn1_submission.csv', index=False)"
   ]
  },
  {
   "cell_type": "markdown",
   "metadata": {},
   "source": [
    "#### MAPE 11.25% a bit better when not to take logarithms for all numeric features (just mileage)"
   ]
  },
  {
   "cell_type": "markdown",
   "metadata": {},
   "source": [
    "# Model 4: NLP + Multiple Inputs"
   ]
  },
  {
   "cell_type": "markdown",
   "metadata": {},
   "source": [
    "#### Install package for working with RUSSIAN LANGUAGE"
   ]
  },
  {
   "cell_type": "code",
   "execution_count": 78,
   "metadata": {
    "execution": {
     "iopub.execute_input": "2021-11-07T10:59:42.745394Z",
     "iopub.status.busy": "2021-11-07T10:59:42.745058Z",
     "iopub.status.idle": "2021-11-07T10:59:42.755086Z",
     "shell.execute_reply": "2021-11-07T10:59:42.754165Z",
     "shell.execute_reply.started": "2021-11-07T10:59:42.745365Z"
    }
   },
   "outputs": [],
   "source": [
    "data.description"
   ]
  },
  {
   "cell_type": "code",
   "execution_count": 79,
   "metadata": {
    "execution": {
     "iopub.execute_input": "2021-11-07T10:59:45.306628Z",
     "iopub.status.busy": "2021-11-07T10:59:45.306277Z",
     "iopub.status.idle": "2021-11-07T10:59:45.313309Z",
     "shell.execute_reply": "2021-11-07T10:59:45.312365Z",
     "shell.execute_reply.started": "2021-11-07T10:59:45.306575Z"
    }
   },
   "outputs": [],
   "source": [
    "# Create lemmatization function\n",
    "# All possible patterns in our text\n",
    "patterns = \"[A-Za-z0-9!#$%&'()*+,./:;<=>?@[\\]^_`{|}~—\\\"\\-]+\"\n",
    "\n",
    "def lemmatize(doc):\n",
    "    doc = re.sub(patterns, ' ', doc) # sub finds OCCURENCES\n",
    "    tokens = []\n",
    "    for token in doc.split():\n",
    "        token = token.strip()\n",
    "        token = morph.normal_forms(token)[0]\n",
    "        tokens.append(token)\n",
    "    return ' '.join(tokens)"
   ]
  },
  {
   "cell_type": "code",
   "execution_count": 80,
   "metadata": {
    "execution": {
     "iopub.execute_input": "2021-11-07T10:59:47.931437Z",
     "iopub.status.busy": "2021-11-07T10:59:47.931097Z",
     "iopub.status.idle": "2021-11-07T10:59:47.936534Z",
     "shell.execute_reply": "2021-11-07T10:59:47.935294Z",
     "shell.execute_reply.started": "2021-11-07T10:59:47.931407Z"
    }
   },
   "outputs": [],
   "source": [
    "# Create word parse function (РАЗБОР СЛОВА) and put all words in normal form\n",
    "def pos(word, morth):\n",
    "    return morth.parse(word)[0].normal_form # return normal form"
   ]
  },
  {
   "cell_type": "code",
   "execution_count": 81,
   "metadata": {
    "execution": {
     "iopub.execute_input": "2021-11-07T10:59:47.942989Z",
     "iopub.status.busy": "2021-11-07T10:59:47.942638Z",
     "iopub.status.idle": "2021-11-07T10:59:48.139420Z",
     "shell.execute_reply": "2021-11-07T10:59:48.138688Z",
     "shell.execute_reply.started": "2021-11-07T10:59:47.942960Z"
    }
   },
   "outputs": [],
   "source": [
    "morph = pymorphy2.MorphAnalyzer()"
   ]
  },
  {
   "cell_type": "code",
   "execution_count": 82,
   "metadata": {
    "execution": {
     "iopub.execute_input": "2021-11-07T10:59:49.065932Z",
     "iopub.status.busy": "2021-11-07T10:59:49.065544Z",
     "iopub.status.idle": "2021-11-07T11:04:56.966416Z",
     "shell.execute_reply": "2021-11-07T11:04:56.965167Z",
     "shell.execute_reply.started": "2021-11-07T10:59:49.065900Z"
    }
   },
   "outputs": [],
   "source": [
    "data.description = data.description.apply(lambda x: \" \".join([pos(word, morph) for word in x.split()]))"
   ]
  },
  {
   "cell_type": "code",
   "execution_count": 83,
   "metadata": {
    "execution": {
     "iopub.execute_input": "2021-11-07T11:04:56.969455Z",
     "iopub.status.busy": "2021-11-07T11:04:56.968941Z",
     "iopub.status.idle": "2021-11-07T11:10:04.284168Z",
     "shell.execute_reply": "2021-11-07T11:10:04.283354Z",
     "shell.execute_reply.started": "2021-11-07T11:04:56.969413Z"
    }
   },
   "outputs": [],
   "source": [
    "df_NLP = data.copy()\n",
    "data['description'] = df_NLP.apply(lambda df_NLP: lemmatize(df_NLP.description), axis=1)"
   ]
  },
  {
   "cell_type": "code",
   "execution_count": 84,
   "metadata": {
    "execution": {
     "iopub.execute_input": "2021-11-07T11:10:04.285789Z",
     "iopub.status.busy": "2021-11-07T11:10:04.285436Z",
     "iopub.status.idle": "2021-11-07T11:10:04.291137Z",
     "shell.execute_reply": "2021-11-07T11:10:04.290182Z",
     "shell.execute_reply.started": "2021-11-07T11:10:04.285753Z"
    }
   },
   "outputs": [],
   "source": [
    "# TOKENIZER\n",
    "# The maximum number of words to be used. (most frequent)\n",
    "MAX_WORDS = 100000\n",
    "# Max number of words in each complaint.\n",
    "MAX_SEQUENCE_LENGTH = 256"
   ]
  },
  {
   "cell_type": "code",
   "execution_count": 85,
   "metadata": {
    "execution": {
     "iopub.execute_input": "2021-11-07T11:10:04.293075Z",
     "iopub.status.busy": "2021-11-07T11:10:04.292509Z",
     "iopub.status.idle": "2021-11-07T11:10:04.301755Z",
     "shell.execute_reply": "2021-11-07T11:10:04.300951Z",
     "shell.execute_reply.started": "2021-11-07T11:10:04.293037Z"
    }
   },
   "outputs": [],
   "source": [
    "# data split \n",
    "text_train = data.description.iloc[X_train.index]\n",
    "text_test = data.description.iloc[X_test.index]\n",
    "text_sub = data.description.iloc[X_sub.index]"
   ]
  },
  {
   "cell_type": "markdown",
   "metadata": {},
   "source": [
    "### Tokenizer"
   ]
  },
  {
   "cell_type": "code",
   "execution_count": 86,
   "metadata": {
    "execution": {
     "iopub.execute_input": "2021-11-07T11:10:04.305696Z",
     "iopub.status.busy": "2021-11-07T11:10:04.305352Z",
     "iopub.status.idle": "2021-11-07T11:10:05.513263Z",
     "shell.execute_reply": "2021-11-07T11:10:05.512291Z",
     "shell.execute_reply.started": "2021-11-07T11:10:04.305635Z"
    }
   },
   "outputs": [],
   "source": [
    "%%time\n",
    "tokenize = Tokenizer(num_words=MAX_WORDS)\n",
    "tokenize.fit_on_texts(data.description)"
   ]
  },
  {
   "cell_type": "code",
   "execution_count": 87,
   "metadata": {
    "_kg_hide-output": true,
    "execution": {
     "iopub.execute_input": "2021-11-07T11:10:05.516461Z",
     "iopub.status.busy": "2021-11-07T11:10:05.515946Z",
     "iopub.status.idle": "2021-11-07T11:10:05.554329Z",
     "shell.execute_reply": "2021-11-07T11:10:05.553301Z",
     "shell.execute_reply.started": "2021-11-07T11:10:05.516420Z"
    }
   },
   "outputs": [],
   "source": [
    "tokenize.word_index"
   ]
  },
  {
   "cell_type": "code",
   "execution_count": 88,
   "metadata": {
    "execution": {
     "iopub.execute_input": "2021-11-07T11:10:05.556657Z",
     "iopub.status.busy": "2021-11-07T11:10:05.555942Z",
     "iopub.status.idle": "2021-11-07T11:10:06.846509Z",
     "shell.execute_reply": "2021-11-07T11:10:06.845498Z",
     "shell.execute_reply.started": "2021-11-07T11:10:05.556608Z"
    }
   },
   "outputs": [],
   "source": [
    "%%time\n",
    "text_train_sequences = sequence.pad_sequences(tokenize.texts_to_sequences(text_train), maxlen=MAX_SEQUENCE_LENGTH)\n",
    "text_test_sequences = sequence.pad_sequences(tokenize.texts_to_sequences(text_test), maxlen=MAX_SEQUENCE_LENGTH)\n",
    "text_sub_sequences = sequence.pad_sequences(tokenize.texts_to_sequences(text_sub), maxlen=MAX_SEQUENCE_LENGTH)\n",
    "\n",
    "print(text_train_sequences.shape, text_test_sequences.shape, text_sub_sequences.shape, )"
   ]
  },
  {
   "cell_type": "code",
   "execution_count": 89,
   "metadata": {
    "execution": {
     "iopub.execute_input": "2021-11-07T11:10:06.848324Z",
     "iopub.status.busy": "2021-11-07T11:10:06.847920Z",
     "iopub.status.idle": "2021-11-07T11:10:06.855575Z",
     "shell.execute_reply": "2021-11-07T11:10:06.854496Z",
     "shell.execute_reply.started": "2021-11-07T11:10:06.848283Z"
    }
   },
   "outputs": [],
   "source": [
    "# this is how text look like now\n",
    "print(text_train.iloc[6])\n",
    "print(text_train_sequences[6])"
   ]
  },
  {
   "cell_type": "markdown",
   "metadata": {},
   "source": [
    "### RNN NLP"
   ]
  },
  {
   "cell_type": "markdown",
   "metadata": {},
   "source": [
    "LSTM model"
   ]
  },
  {
   "cell_type": "code",
   "execution_count": 90,
   "metadata": {
    "execution": {
     "iopub.execute_input": "2021-11-07T11:10:06.857789Z",
     "iopub.status.busy": "2021-11-07T11:10:06.857172Z",
     "iopub.status.idle": "2021-11-07T11:10:07.384064Z",
     "shell.execute_reply": "2021-11-07T11:10:07.383326Z",
     "shell.execute_reply.started": "2021-11-07T11:10:06.857751Z"
    }
   },
   "outputs": [],
   "source": [
    "model_nlp = Sequential()\n",
    "model_nlp.add(L.Input(shape=MAX_SEQUENCE_LENGTH, name=\"seq_description\"))\n",
    "model_nlp.add(L.Embedding(len(tokenize.word_index)+1, MAX_SEQUENCE_LENGTH,))\n",
    "model_nlp.add(L.LSTM(256, return_sequences=True))\n",
    "model_nlp.add(L.Dropout(0.5))\n",
    "model_nlp.add(L.LSTM(128,))\n",
    "model_nlp.add(L.Dropout(0.25))\n",
    "model_nlp.add(L.Dense(64, activation=\"relu\"))\n",
    "model_nlp.add(L.Dropout(0.25))"
   ]
  },
  {
   "cell_type": "markdown",
   "metadata": {},
   "source": [
    "### MLP"
   ]
  },
  {
   "cell_type": "code",
   "execution_count": 91,
   "metadata": {
    "execution": {
     "iopub.execute_input": "2021-11-07T11:10:07.386956Z",
     "iopub.status.busy": "2021-11-07T11:10:07.386421Z",
     "iopub.status.idle": "2021-11-07T11:10:07.425731Z",
     "shell.execute_reply": "2021-11-07T11:10:07.425064Z",
     "shell.execute_reply.started": "2021-11-07T11:10:07.386914Z"
    }
   },
   "outputs": [],
   "source": [
    "model_mlp = Sequential()\n",
    "model_mlp.add(L.Dense(512, input_dim=X_train.shape[1], activation=\"relu\"))\n",
    "model_mlp.add(L.Dropout(0.5))\n",
    "model_mlp.add(L.Dense(256, activation=\"relu\"))\n",
    "model_mlp.add(L.Dropout(0.5))"
   ]
  },
  {
   "cell_type": "markdown",
   "metadata": {},
   "source": [
    "### Multiple Inputs NN"
   ]
  },
  {
   "cell_type": "code",
   "execution_count": 92,
   "metadata": {
    "execution": {
     "iopub.execute_input": "2021-11-07T11:10:07.427430Z",
     "iopub.status.busy": "2021-11-07T11:10:07.427079Z",
     "iopub.status.idle": "2021-11-07T11:10:07.455496Z",
     "shell.execute_reply": "2021-11-07T11:10:07.454857Z",
     "shell.execute_reply.started": "2021-11-07T11:10:07.427391Z"
    }
   },
   "outputs": [],
   "source": [
    "combinedInput = L.concatenate([model_nlp.output, model_mlp.output])\n",
    "# being our regression head\n",
    "head = L.Dense(64, activation=\"relu\")(combinedInput)\n",
    "head = L.Dense(1, activation=\"linear\")(head)\n",
    "\n",
    "model = Model(inputs=[model_nlp.input, model_mlp.input], outputs=head)"
   ]
  },
  {
   "cell_type": "code",
   "execution_count": 93,
   "metadata": {
    "_kg_hide-output": true,
    "execution": {
     "iopub.execute_input": "2021-11-07T11:10:07.458480Z",
     "iopub.status.busy": "2021-11-07T11:10:07.458234Z",
     "iopub.status.idle": "2021-11-07T11:10:07.472156Z",
     "shell.execute_reply": "2021-11-07T11:10:07.471416Z",
     "shell.execute_reply.started": "2021-11-07T11:10:07.458455Z"
    }
   },
   "outputs": [],
   "source": [
    "model.summary()"
   ]
  },
  {
   "cell_type": "markdown",
   "metadata": {},
   "source": [
    "### Fit"
   ]
  },
  {
   "cell_type": "code",
   "execution_count": 94,
   "metadata": {
    "execution": {
     "iopub.execute_input": "2021-11-07T11:10:07.473563Z",
     "iopub.status.busy": "2021-11-07T11:10:07.473246Z",
     "iopub.status.idle": "2021-11-07T11:10:07.489573Z",
     "shell.execute_reply": "2021-11-07T11:10:07.488508Z",
     "shell.execute_reply.started": "2021-11-07T11:10:07.473526Z"
    }
   },
   "outputs": [],
   "source": [
    "optimizer = tf.keras.optimizers.Adam(0.01)\n",
    "model.compile(loss='MAPE',optimizer=optimizer, metrics=['MAPE'])"
   ]
  },
  {
   "cell_type": "code",
   "execution_count": 95,
   "metadata": {
    "execution": {
     "iopub.execute_input": "2021-11-07T11:10:07.491288Z",
     "iopub.status.busy": "2021-11-07T11:10:07.490913Z",
     "iopub.status.idle": "2021-11-07T11:10:07.498162Z",
     "shell.execute_reply": "2021-11-07T11:10:07.497395Z",
     "shell.execute_reply.started": "2021-11-07T11:10:07.491248Z"
    }
   },
   "outputs": [],
   "source": [
    "checkpoint = ModelCheckpoint('../working/best_model.hdf5', monitor=['val_MAPE'], verbose=0, mode='min')\n",
    "earlystop = EarlyStopping(monitor='val_MAPE', patience=10, restore_best_weights=True,)\n",
    "callbacks_list = [checkpoint, earlystop]"
   ]
  },
  {
   "cell_type": "code",
   "execution_count": 96,
   "metadata": {
    "_kg_hide-output": true,
    "execution": {
     "iopub.execute_input": "2021-11-07T11:10:07.499910Z",
     "iopub.status.busy": "2021-11-07T11:10:07.499539Z",
     "iopub.status.idle": "2021-11-07T11:15:31.224577Z",
     "shell.execute_reply": "2021-11-07T11:15:31.223713Z",
     "shell.execute_reply.started": "2021-11-07T11:10:07.499874Z"
    }
   },
   "outputs": [],
   "source": [
    "history = model.fit([text_train_sequences, X_train], y_train,\n",
    "                    batch_size=512,\n",
    "                    epochs=500,\n",
    "                    validation_data=([text_test_sequences, X_test], y_test),\n",
    "                    callbacks=callbacks_list\n",
    "                   )"
   ]
  },
  {
   "cell_type": "code",
   "execution_count": 97,
   "metadata": {
    "execution": {
     "iopub.execute_input": "2021-11-07T11:15:31.227069Z",
     "iopub.status.busy": "2021-11-07T11:15:31.226657Z",
     "iopub.status.idle": "2021-11-07T11:15:31.461576Z",
     "shell.execute_reply": "2021-11-07T11:15:31.460698Z",
     "shell.execute_reply.started": "2021-11-07T11:15:31.227016Z"
    }
   },
   "outputs": [],
   "source": [
    "plt.title('Loss')\n",
    "plt.plot(history.history['MAPE'], label='train')\n",
    "plt.plot(history.history['val_MAPE'], label='test')\n",
    "plt.show();"
   ]
  },
  {
   "cell_type": "code",
   "execution_count": 98,
   "metadata": {
    "execution": {
     "iopub.execute_input": "2021-11-07T11:15:31.463271Z",
     "iopub.status.busy": "2021-11-07T11:15:31.462933Z",
     "iopub.status.idle": "2021-11-07T11:15:31.627196Z",
     "shell.execute_reply": "2021-11-07T11:15:31.626396Z",
     "shell.execute_reply.started": "2021-11-07T11:15:31.463234Z"
    }
   },
   "outputs": [],
   "source": [
    "model.load_weights('../working/best_model.hdf5')\n",
    "model.save('../working/nn_mlp_nlp.hdf5')"
   ]
  },
  {
   "cell_type": "code",
   "execution_count": 99,
   "metadata": {
    "execution": {
     "iopub.execute_input": "2021-11-07T11:15:31.628950Z",
     "iopub.status.busy": "2021-11-07T11:15:31.628619Z",
     "iopub.status.idle": "2021-11-07T11:15:32.660324Z",
     "shell.execute_reply": "2021-11-07T11:15:32.658650Z",
     "shell.execute_reply.started": "2021-11-07T11:15:31.628914Z"
    }
   },
   "outputs": [],
   "source": [
    "test_predict_nn2 = model.predict([text_test_sequences, X_test])\n",
    "print(f\"TEST mape: {(mape(y_test, test_predict_nn2[:,0]))*100:0.2f}%\")"
   ]
  },
  {
   "cell_type": "code",
   "execution_count": 100,
   "metadata": {
    "execution": {
     "iopub.execute_input": "2021-11-07T11:15:32.661951Z",
     "iopub.status.busy": "2021-11-07T11:15:32.661622Z",
     "iopub.status.idle": "2021-11-07T11:15:33.431689Z",
     "shell.execute_reply": "2021-11-07T11:15:33.430654Z",
     "shell.execute_reply.started": "2021-11-07T11:15:32.661922Z"
    }
   },
   "outputs": [],
   "source": [
    "sub_predict_nn2 = model.predict([text_sub_sequences, X_sub])\n",
    "sample_submission['price'] = sub_predict_nn2[:,0]\n",
    "sample_submission.to_csv('nn2_submission.csv', index=False)"
   ]
  },
  {
   "cell_type": "markdown",
   "metadata": {},
   "source": [
    "# Model 5: Add pictures"
   ]
  },
  {
   "cell_type": "markdown",
   "metadata": {},
   "source": [
    "### Data"
   ]
  },
  {
   "cell_type": "code",
   "execution_count": 101,
   "metadata": {
    "execution": {
     "iopub.execute_input": "2021-11-07T11:15:33.433477Z",
     "iopub.status.busy": "2021-11-07T11:15:33.433129Z",
     "iopub.status.idle": "2021-11-07T11:15:34.781300Z",
     "shell.execute_reply": "2021-11-07T11:15:34.780514Z",
     "shell.execute_reply.started": "2021-11-07T11:15:33.433441Z"
    }
   },
   "outputs": [],
   "source": [
    "# check prices and pictures\n",
    "plt.figure(figsize = (12,8))\n",
    "\n",
    "random_image = train.sample(n = 9)\n",
    "random_image_paths = random_image['sell_id'].values\n",
    "random_image_cat = random_image['price'].values\n",
    "\n",
    "for index, path in enumerate(random_image_paths):\n",
    "    im = PIL.Image.open(DATA_DIR+'img/img/' + str(path) + '.jpg')\n",
    "    plt.subplot(3, 3, index + 1)\n",
    "    plt.imshow(im)\n",
    "    plt.title('price: ' + str(random_image_cat[index]))\n",
    "    plt.axis('off')\n",
    "plt.show()"
   ]
  },
  {
   "cell_type": "code",
   "execution_count": 102,
   "metadata": {
    "execution": {
     "iopub.execute_input": "2021-11-07T11:15:34.783286Z",
     "iopub.status.busy": "2021-11-07T11:15:34.782732Z",
     "iopub.status.idle": "2021-11-07T11:16:50.366303Z",
     "shell.execute_reply": "2021-11-07T11:16:50.365378Z",
     "shell.execute_reply.started": "2021-11-07T11:15:34.783248Z"
    }
   },
   "outputs": [],
   "source": [
    "size = (320, 240)\n",
    "\n",
    "def get_image_array(index):\n",
    "    images_train = []\n",
    "    for index, sell_id in enumerate(data['sell_id'].iloc[index].values):\n",
    "        image = cv2.imread(DATA_DIR + 'img/img/' + str(sell_id) + '.jpg')\n",
    "        assert(image is not None)\n",
    "        image = cv2.resize(image, size)\n",
    "        images_train.append(image)\n",
    "    images_train = np.array(images_train)\n",
    "    print('images shape', images_train.shape, 'dtype', images_train.dtype)\n",
    "    return(images_train)\n",
    "\n",
    "images_train = get_image_array(X_train.index)\n",
    "images_test = get_image_array(X_test.index)\n",
    "images_sub = get_image_array(X_sub.index)"
   ]
  },
  {
   "cell_type": "markdown",
   "metadata": {},
   "source": [
    "## Albumentations (from my previous project)"
   ]
  },
  {
   "cell_type": "code",
   "execution_count": 103,
   "metadata": {
    "execution": {
     "iopub.execute_input": "2021-11-07T11:16:50.368270Z",
     "iopub.status.busy": "2021-11-07T11:16:50.367747Z",
     "iopub.status.idle": "2021-11-07T11:16:51.708075Z",
     "shell.execute_reply": "2021-11-07T11:16:51.706250Z",
     "shell.execute_reply.started": "2021-11-07T11:16:50.368231Z"
    }
   },
   "outputs": [],
   "source": [
    "import albumentations as a\n",
    "\n",
    "# Example from here: https://github.com/VictorKovatsenko/portfolio_ds/blob/master/Project_7_Deep_learning_car_classification/Kovatsenko_car_classification_keras.ipynb\n",
    "augmentations = a.Compose([\n",
    "    a.GaussianBlur(p=0.05), # add Gauss bluring and noise with 5% probability\n",
    "    a.GaussNoise(p=0.05),\n",
    "    a.ShiftScaleRotate(shift_limit=0.0625, \n",
    "                       scale_limit=0.01, \n",
    "                       interpolation=1, \n",
    "                       border_mode=4, \n",
    "                       rotate_limit=20, \n",
    "                       p=.75), # shift, scale, rotate with higher than default probablity can be useful for variety \n",
    "#     in our images \n",
    "    a.RandomBrightness(limit=0.2, p=0.5),\n",
    "    \n",
    "#     Add some more aumentations with default parameters\n",
    "    \n",
    "    a.HorizontalFlip(), # as we take a look on car's model it may vary with different mirroring,\n",
    "                        # then to get better result we can turn it on NO VERTICAL FLIP because cars are always in horizontal\n",
    "    a.HueSaturationValue(), # random hue and saturation\n",
    "    a.RGBShift(),\n",
    "    a.FancyPCA(alpha=0.1, \n",
    "               always_apply=False, \n",
    "               p=0.5),\n",
    "    \n",
    "    #  add OneOfs with default 50% probability for brightness contrast\n",
    "    a.OneOf([\n",
    "        a.RandomBrightnessContrast(brightness_limit=0.3, \n",
    "                                                contrast_limit=0.3),\n",
    "        a.RandomBrightnessContrast(brightness_limit=0.1, \n",
    "                                                contrast_limit=0.1)],\n",
    "        p=0.5)\n",
    "])\n",
    "\n",
    "#example\n",
    "plt.figure(figsize = (12,8))\n",
    "for i in range(9):\n",
    "    img = augmentations(image = images_train[0])['image']\n",
    "    plt.subplot(3, 3, i + 1)\n",
    "    plt.imshow(img)\n",
    "    plt.axis('off')\n",
    "plt.show()"
   ]
  },
  {
   "cell_type": "code",
   "execution_count": 104,
   "metadata": {
    "execution": {
     "iopub.execute_input": "2021-11-07T11:16:51.710120Z",
     "iopub.status.busy": "2021-11-07T11:16:51.709516Z",
     "iopub.status.idle": "2021-11-07T11:16:51.714759Z",
     "shell.execute_reply": "2021-11-07T11:16:51.713620Z",
     "shell.execute_reply.started": "2021-11-07T11:16:51.710080Z"
    }
   },
   "outputs": [],
   "source": [
    "# FUNCTION FROM BASELINE NOT IN USE\n",
    "\n",
    "# def make_augmentations(images):\n",
    "#     print('applying augmentations', end = '')\n",
    "#     augmented_images = np.empty(images.shape)\n",
    "#     for i in range(images.shape[0]):\n",
    "#         if i % 200 == 0:\n",
    "#               print('.', end = '')\n",
    "#     augment_dict = augmentation(image = images[i])\n",
    "#     augmented_image = augment_dict['image']\n",
    "#     augmented_images[i] = augmented_image\n",
    "#     print('')\n",
    "#     return augmented_images"
   ]
  },
  {
   "cell_type": "code",
   "execution_count": 105,
   "metadata": {
    "execution": {
     "iopub.execute_input": "2021-11-07T11:16:51.716564Z",
     "iopub.status.busy": "2021-11-07T11:16:51.716085Z",
     "iopub.status.idle": "2021-11-07T11:16:52.929386Z",
     "shell.execute_reply": "2021-11-07T11:16:52.928463Z",
     "shell.execute_reply.started": "2021-11-07T11:16:51.716523Z"
    }
   },
   "outputs": [],
   "source": [
    "# NLP part\n",
    "tokenize = Tokenizer(num_words=MAX_WORDS)\n",
    "tokenize.fit_on_texts(data.description)"
   ]
  },
  {
   "cell_type": "code",
   "execution_count": 106,
   "metadata": {
    "execution": {
     "iopub.execute_input": "2021-11-07T11:16:52.931203Z",
     "iopub.status.busy": "2021-11-07T11:16:52.930816Z",
     "iopub.status.idle": "2021-11-07T11:16:56.141620Z",
     "shell.execute_reply": "2021-11-07T11:16:56.140260Z",
     "shell.execute_reply.started": "2021-11-07T11:16:52.931161Z"
    }
   },
   "outputs": [],
   "source": [
    "def process_image(image):\n",
    "    return augmentations(image = image.numpy())['image']\n",
    "\n",
    "def tokenize_(descriptions):\n",
    "    return sequence.pad_sequences(tokenize.texts_to_sequences(descriptions), maxlen = MAX_SEQUENCE_LENGTH)\n",
    "\n",
    "def tokenize_text(text):\n",
    "    return tokenize_([text.numpy().decode('utf-8')])[0]\n",
    "\n",
    "def tf_process_train_dataset_element(image, table_data, text, price):\n",
    "    im_shape = image.shape\n",
    "    [image,] = tf.py_function(process_image, [image], [tf.uint8])\n",
    "    image.set_shape(im_shape)\n",
    "    [text,] = tf.py_function(tokenize_text, [text], [tf.int32])\n",
    "    return (image, table_data, text), price\n",
    "\n",
    "def tf_process_val_dataset_element(image, table_data, text, price):\n",
    "    [text,] = tf.py_function(tokenize_text, [text], [tf.int32])\n",
    "    return (image, table_data, text), price\n",
    "\n",
    "train_dataset = tf.data.Dataset.from_tensor_slices((\n",
    "    images_train, X_train, data.description.iloc[X_train.index], y_train\n",
    "    )).map(tf_process_train_dataset_element)\n",
    "\n",
    "test_dataset = tf.data.Dataset.from_tensor_slices((\n",
    "    images_test, X_test, data.description.iloc[X_test.index], y_test\n",
    "    )).map(tf_process_val_dataset_element)\n",
    "\n",
    "y_sub = np.zeros(len(X_sub))\n",
    "sub_dataset = tf.data.Dataset.from_tensor_slices((\n",
    "    images_sub, X_sub, data.description.iloc[X_sub.index], y_sub\n",
    "    )).map(tf_process_val_dataset_element)\n",
    "\n",
    "#Check for errors:\n",
    "train_dataset.__iter__().__next__();\n",
    "test_dataset.__iter__().__next__();\n",
    "sub_dataset.__iter__().__next__();"
   ]
  },
  {
   "cell_type": "markdown",
   "metadata": {},
   "source": [
    "### Build convolutional network without \"head\""
   ]
  },
  {
   "cell_type": "code",
   "execution_count": 107,
   "metadata": {
    "execution": {
     "iopub.execute_input": "2021-11-07T11:17:06.630295Z",
     "iopub.status.busy": "2021-11-07T11:17:06.629929Z",
     "iopub.status.idle": "2021-11-07T11:17:10.812342Z",
     "shell.execute_reply": "2021-11-07T11:17:10.811483Z",
     "shell.execute_reply.started": "2021-11-07T11:17:06.630257Z"
    }
   },
   "outputs": [],
   "source": [
    "efficientnet_model = tf.keras.applications.efficientnet.EfficientNetB3(weights = 'imagenet', include_top = False, input_shape = (size[1], size[0], 3))"
   ]
  },
  {
   "cell_type": "markdown",
   "metadata": {},
   "source": [
    "#### Add Fine-tunning (one attempt unfreeze 50% of layers)"
   ]
  },
  {
   "cell_type": "code",
   "execution_count": 108,
   "metadata": {
    "execution": {
     "iopub.execute_input": "2021-11-07T11:17:10.814143Z",
     "iopub.status.busy": "2021-11-07T11:17:10.813767Z",
     "iopub.status.idle": "2021-11-07T11:17:10.840511Z",
     "shell.execute_reply": "2021-11-07T11:17:10.839611Z",
     "shell.execute_reply.started": "2021-11-07T11:17:10.814105Z"
    }
   },
   "outputs": [],
   "source": [
    "efficientnet_model.trainable = True\n",
    "\n",
    "# Fine-tune starting point\n",
    "start_point = len(efficientnet_model.layers)//2\n",
    "\n",
    "# Keep all other layers frozen\n",
    "for layer in efficientnet_model.layers[:start_point]:\n",
    "    layer.trainable =  False"
   ]
  },
  {
   "cell_type": "code",
   "execution_count": 110,
   "metadata": {
    "execution": {
     "iopub.execute_input": "2021-11-07T11:18:33.222361Z",
     "iopub.status.busy": "2021-11-07T11:18:33.222024Z",
     "iopub.status.idle": "2021-11-07T11:18:33.266315Z",
     "shell.execute_reply": "2021-11-07T11:18:33.265589Z",
     "shell.execute_reply.started": "2021-11-07T11:18:33.222330Z"
    }
   },
   "outputs": [],
   "source": [
    "# Check\n",
    "for layer in efficientnet_model.layers:\n",
    "    print(layer, layer.trainable)"
   ]
  },
  {
   "cell_type": "code",
   "execution_count": 111,
   "metadata": {
    "execution": {
     "iopub.execute_input": "2021-11-07T11:18:49.421045Z",
     "iopub.status.busy": "2021-11-07T11:18:49.420692Z",
     "iopub.status.idle": "2021-11-07T11:18:49.428697Z",
     "shell.execute_reply": "2021-11-07T11:18:49.427713Z",
     "shell.execute_reply.started": "2021-11-07T11:18:49.421017Z"
    }
   },
   "outputs": [],
   "source": [
    "efficientnet_output = L.GlobalAveragePooling2D()(efficientnet_model.output)"
   ]
  },
  {
   "cell_type": "code",
   "execution_count": 112,
   "metadata": {
    "execution": {
     "iopub.execute_input": "2021-11-07T11:18:56.530258Z",
     "iopub.status.busy": "2021-11-07T11:18:56.529919Z",
     "iopub.status.idle": "2021-11-07T11:18:56.572479Z",
     "shell.execute_reply": "2021-11-07T11:18:56.571587Z",
     "shell.execute_reply.started": "2021-11-07T11:18:56.530227Z"
    }
   },
   "outputs": [],
   "source": [
    "#tabular model NN\n",
    "tabular_model = Sequential([\n",
    "    L.Input(shape = X.shape[1]),\n",
    "    L.Dense(512, activation = 'relu'),\n",
    "    L.Dropout(0.5),\n",
    "    L.Dense(256, activation = 'relu'),\n",
    "    L.Dropout(0.5),\n",
    "    ])"
   ]
  },
  {
   "cell_type": "code",
   "execution_count": 113,
   "metadata": {
    "execution": {
     "iopub.execute_input": "2021-11-07T11:18:59.192657Z",
     "iopub.status.busy": "2021-11-07T11:18:59.192301Z",
     "iopub.status.idle": "2021-11-07T11:18:59.662247Z",
     "shell.execute_reply": "2021-11-07T11:18:59.661414Z",
     "shell.execute_reply.started": "2021-11-07T11:18:59.192621Z"
    }
   },
   "outputs": [],
   "source": [
    "# NLP\n",
    "nlp_model = Sequential([\n",
    "    L.Input(shape=MAX_SEQUENCE_LENGTH, name=\"seq_description\"),\n",
    "    L.Embedding(len(tokenize.word_index)+1, MAX_SEQUENCE_LENGTH,),\n",
    "    L.LSTM(256, return_sequences=True),\n",
    "    L.Dropout(0.5),\n",
    "    L.LSTM(128),\n",
    "    L.Dropout(0.25),\n",
    "    L.Dense(64),\n",
    "    ])"
   ]
  },
  {
   "cell_type": "code",
   "execution_count": 114,
   "metadata": {
    "_kg_hide-output": true,
    "execution": {
     "iopub.execute_input": "2021-11-07T11:19:01.669453Z",
     "iopub.status.busy": "2021-11-07T11:19:01.669112Z",
     "iopub.status.idle": "2021-11-07T11:19:01.858016Z",
     "shell.execute_reply": "2021-11-07T11:19:01.857280Z",
     "shell.execute_reply.started": "2021-11-07T11:19:01.669422Z"
    }
   },
   "outputs": [],
   "source": [
    "#concatenate 3 NN\n",
    "combinedInput = L.concatenate([efficientnet_output, tabular_model.output, nlp_model.output])\n",
    "\n",
    "# building our regression head\n",
    "head = L.Dense(256, activation=\"relu\")(combinedInput)\n",
    "head = L.Dense(1,)(head)\n",
    "\n",
    "model = Model(inputs=[efficientnet_model.input, tabular_model.input, nlp_model.input], outputs=head)\n",
    "model.summary()"
   ]
  },
  {
   "cell_type": "code",
   "execution_count": 115,
   "metadata": {
    "execution": {
     "iopub.execute_input": "2021-11-07T11:19:03.789721Z",
     "iopub.status.busy": "2021-11-07T11:19:03.789365Z",
     "iopub.status.idle": "2021-11-07T11:19:03.813342Z",
     "shell.execute_reply": "2021-11-07T11:19:03.812407Z",
     "shell.execute_reply.started": "2021-11-07T11:19:03.789688Z"
    }
   },
   "outputs": [],
   "source": [
    "optimizer = tf.keras.optimizers.Adam(0.005)\n",
    "model.compile(loss='MAPE',optimizer=optimizer, metrics=['MAPE'])"
   ]
  },
  {
   "cell_type": "markdown",
   "metadata": {},
   "source": [
    "## Add LR manage technique"
   ]
  },
  {
   "cell_type": "code",
   "execution_count": 116,
   "metadata": {
    "execution": {
     "iopub.execute_input": "2021-11-07T11:19:23.556637Z",
     "iopub.status.busy": "2021-11-07T11:19:23.556290Z",
     "iopub.status.idle": "2021-11-07T11:19:23.561116Z",
     "shell.execute_reply": "2021-11-07T11:19:23.560123Z",
     "shell.execute_reply.started": "2021-11-07T11:19:23.556584Z"
    }
   },
   "outputs": [],
   "source": [
    "# Add LR scheduler (decrease rate after 2 epoch)\n",
    "lr_scheduler = ReduceLROnPlateau(monitor='val_loss',\n",
    "                              factor=0.2, #let's reduce LR 5 times\n",
    "                              patience=2, # if no improvement after 2 epoch - reduce LR\n",
    "                              min_lr=0.0000001,\n",
    "                              verbose=1,\n",
    "                              mode='auto')"
   ]
  },
  {
   "cell_type": "code",
   "execution_count": 117,
   "metadata": {
    "execution": {
     "iopub.execute_input": "2021-11-07T11:19:26.143177Z",
     "iopub.status.busy": "2021-11-07T11:19:26.142845Z",
     "iopub.status.idle": "2021-11-07T11:19:26.148499Z",
     "shell.execute_reply": "2021-11-07T11:19:26.147402Z",
     "shell.execute_reply.started": "2021-11-07T11:19:26.143147Z"
    }
   },
   "outputs": [],
   "source": [
    "checkpoint = ModelCheckpoint('../working/best_model.hdf5', monitor=['val_MAPE'], verbose=0, mode='min')\n",
    "earlystop = EarlyStopping(monitor='val_MAPE', patience=10, restore_best_weights=True,)\n",
    "callbacks_list = [checkpoint, earlystop, lr_scheduler]"
   ]
  },
  {
   "cell_type": "code",
   "execution_count": 118,
   "metadata": {
    "_kg_hide-output": true,
    "execution": {
     "iopub.execute_input": "2021-11-07T11:19:30.082796Z",
     "iopub.status.busy": "2021-11-07T11:19:30.082432Z",
     "iopub.status.idle": "2021-11-07T12:07:12.354242Z",
     "shell.execute_reply": "2021-11-07T12:07:12.352078Z",
     "shell.execute_reply.started": "2021-11-07T11:19:30.082760Z"
    }
   },
   "outputs": [],
   "source": [
    "history = model.fit(train_dataset.batch(30),\n",
    "                    epochs=100,\n",
    "                    validation_data = test_dataset.batch(30),\n",
    "                    callbacks=callbacks_list\n",
    "                   )"
   ]
  },
  {
   "cell_type": "code",
   "execution_count": 119,
   "metadata": {
    "execution": {
     "iopub.execute_input": "2021-11-07T12:07:12.359510Z",
     "iopub.status.busy": "2021-11-07T12:07:12.358247Z",
     "iopub.status.idle": "2021-11-07T12:07:12.594476Z",
     "shell.execute_reply": "2021-11-07T12:07:12.593564Z",
     "shell.execute_reply.started": "2021-11-07T12:07:12.359463Z"
    }
   },
   "outputs": [],
   "source": [
    "plt.title('Loss')\n",
    "plt.plot(history.history['MAPE'], label='train')\n",
    "plt.plot(history.history['val_MAPE'], label='test')\n",
    "plt.show();"
   ]
  },
  {
   "cell_type": "code",
   "execution_count": 120,
   "metadata": {
    "execution": {
     "iopub.execute_input": "2021-11-07T12:07:12.596380Z",
     "iopub.status.busy": "2021-11-07T12:07:12.595973Z",
     "iopub.status.idle": "2021-11-07T12:07:14.049316Z",
     "shell.execute_reply": "2021-11-07T12:07:14.048483Z",
     "shell.execute_reply.started": "2021-11-07T12:07:12.596337Z"
    }
   },
   "outputs": [],
   "source": [
    "model.load_weights('../working/best_model.hdf5')\n",
    "model.save('../working/nn_final.hdf5')"
   ]
  },
  {
   "cell_type": "code",
   "execution_count": 121,
   "metadata": {
    "execution": {
     "iopub.execute_input": "2021-11-07T12:07:14.051654Z",
     "iopub.status.busy": "2021-11-07T12:07:14.051305Z",
     "iopub.status.idle": "2021-11-07T12:07:20.550391Z",
     "shell.execute_reply": "2021-11-07T12:07:20.549375Z",
     "shell.execute_reply.started": "2021-11-07T12:07:14.051615Z"
    }
   },
   "outputs": [],
   "source": [
    "test_predict_nn3 = model.predict(test_dataset.batch(30))\n",
    "print(f\"TEST mape: {(mape(y_test, test_predict_nn3[:,0]))*100:0.2f}%\")"
   ]
  },
  {
   "cell_type": "code",
   "execution_count": 122,
   "metadata": {
    "execution": {
     "iopub.execute_input": "2021-11-07T12:07:20.554658Z",
     "iopub.status.busy": "2021-11-07T12:07:20.554377Z",
     "iopub.status.idle": "2021-11-07T12:07:27.140616Z",
     "shell.execute_reply": "2021-11-07T12:07:27.139777Z",
     "shell.execute_reply.started": "2021-11-07T12:07:20.554628Z"
    }
   },
   "outputs": [],
   "source": [
    "sub_predict_nn3 = model.predict(sub_dataset.batch(30))\n",
    "sample_submission['price'] = sub_predict_nn3[:,0]\n",
    "sample_submission.to_csv('nn3_submission.csv', index=False)"
   ]
  },
  {
   "cell_type": "markdown",
   "metadata": {},
   "source": [
    "# Blend"
   ]
  },
  {
   "cell_type": "code",
   "execution_count": 128,
   "metadata": {
    "execution": {
     "iopub.execute_input": "2021-11-07T12:09:52.240955Z",
     "iopub.status.busy": "2021-11-07T12:09:52.240570Z",
     "iopub.status.idle": "2021-11-07T12:09:52.246849Z",
     "shell.execute_reply": "2021-11-07T12:09:52.245827Z",
     "shell.execute_reply.started": "2021-11-07T12:09:52.240922Z"
    }
   },
   "outputs": [],
   "source": [
    "blend_predict = (test_predict_catboost +\n",
    "                 test_predict_nn1[:, 0] + test_predict_nn3[:, 0]) / 3\n",
    "print(f\"TEST mape: {(mape(y_test, blend_predict))*100:0.2f}%\")"
   ]
  },
  {
   "cell_type": "code",
   "execution_count": 129,
   "metadata": {
    "execution": {
     "iopub.execute_input": "2021-11-07T12:09:54.368348Z",
     "iopub.status.busy": "2021-11-07T12:09:54.368011Z",
     "iopub.status.idle": "2021-11-07T12:09:54.384254Z",
     "shell.execute_reply": "2021-11-07T12:09:54.383498Z",
     "shell.execute_reply.started": "2021-11-07T12:09:54.368319Z"
    }
   },
   "outputs": [],
   "source": [
    "blend_sub_predict = (sub_predict_catboost +\n",
    "                     sub_predict_nn1[:, 0] + sub_predict_nn3[:, 0]) / 3\n",
    "sample_submission['price'] = blend_sub_predict\n",
    "sample_submission.to_csv('blend_submission.csv', index=False)"
   ]
  },
  {
   "cell_type": "markdown",
   "metadata": {},
   "source": [
    "# Conclusion:\n",
    "- Worked with data, cleaned up bodyType, owners and name columns, generated 3 new features, made experiments with logarithms of some variables\n",
    "- Did Natural Language analysis by placing each word to normal form and finding most frequent occurencies\n",
    "- Different augmentation techniques applied, the best one - with Albumentations library\n",
    "- ReduceOnPlateau method was applied to manage Learning rate.\n",
    "- The main output for me is get to know how to use Multiple Inputs NN and apply different methods working with dataset, NLP and pictures together.\n",
    "\n",
    "Final MAPE metrics result using blending is **10.8%**. Which performs better than baseline and puts me on middle place in leaderboard\n",
    "\n",
    "What could be better? \n",
    "Due to the convolutional network is very time consuming, did't apply different fine-tuning options for EfficientNetB3. The same reason was for not to try other NN from ImageNet."
   ]
  },
  {
   "cell_type": "markdown",
   "metadata": {},
   "source": [
    "## Model Bonus: feature forwarding (no changes)"
   ]
  },
  {
   "cell_type": "code",
   "execution_count": 130,
   "metadata": {
    "execution": {
     "iopub.execute_input": "2021-11-07T12:09:55.208527Z",
     "iopub.status.busy": "2021-11-07T12:09:55.208206Z",
     "iopub.status.idle": "2021-11-07T12:09:55.265773Z",
     "shell.execute_reply": "2021-11-07T12:09:55.264910Z",
     "shell.execute_reply.started": "2021-11-07T12:09:55.208495Z"
    }
   },
   "outputs": [],
   "source": [
    "# MLP\n",
    "model_mlp = Sequential()\n",
    "model_mlp.add(L.Dense(512, input_dim=X_train.shape[1], activation=\"relu\"))\n",
    "model_mlp.add(L.Dropout(0.5))\n",
    "model_mlp.add(L.Dense(256, activation=\"relu\"))\n",
    "model_mlp.add(L.Dropout(0.5))"
   ]
  },
  {
   "cell_type": "code",
   "execution_count": 132,
   "metadata": {
    "execution": {
     "iopub.execute_input": "2021-11-07T12:11:24.961232Z",
     "iopub.status.busy": "2021-11-07T12:11:24.960888Z",
     "iopub.status.idle": "2021-11-07T12:11:24.978302Z",
     "shell.execute_reply": "2021-11-07T12:11:24.977487Z",
     "shell.execute_reply.started": "2021-11-07T12:11:24.961202Z"
    }
   },
   "outputs": [],
   "source": [
    "# FEATURE Input\n",
    "# Input\n",
    "productiondate = L.Input(shape=[1], name=\"productionDate\")\n",
    "# Embeddings layers\n",
    "emb_productiondate = L.Embedding(len(X.productionDate.unique().tolist())+1, 20)(productiondate)\n",
    "f_productiondate = L.Flatten()(emb_productiondate)"
   ]
  },
  {
   "cell_type": "code",
   "execution_count": 133,
   "metadata": {
    "execution": {
     "iopub.execute_input": "2021-11-07T12:11:27.101033Z",
     "iopub.status.busy": "2021-11-07T12:11:27.100694Z",
     "iopub.status.idle": "2021-11-07T12:11:27.133399Z",
     "shell.execute_reply": "2021-11-07T12:11:27.132684Z",
     "shell.execute_reply.started": "2021-11-07T12:11:27.101003Z"
    }
   },
   "outputs": [],
   "source": [
    "combinedInput = L.concatenate([model_mlp.output, f_productiondate,])\n",
    "# being our regression head\n",
    "head = L.Dense(64, activation=\"relu\")(combinedInput)\n",
    "head = L.Dense(1, activation=\"linear\")(head)\n",
    "\n",
    "model = Model(inputs=[model_mlp.input, productiondate], outputs=head)"
   ]
  },
  {
   "cell_type": "code",
   "execution_count": 134,
   "metadata": {
    "_kg_hide-output": true,
    "execution": {
     "iopub.execute_input": "2021-11-07T12:11:28.523065Z",
     "iopub.status.busy": "2021-11-07T12:11:28.522748Z",
     "iopub.status.idle": "2021-11-07T12:11:28.536809Z",
     "shell.execute_reply": "2021-11-07T12:11:28.533583Z",
     "shell.execute_reply.started": "2021-11-07T12:11:28.523035Z"
    }
   },
   "outputs": [],
   "source": [
    "model.summary()"
   ]
  },
  {
   "cell_type": "code",
   "execution_count": 135,
   "metadata": {
    "execution": {
     "iopub.execute_input": "2021-11-07T12:13:33.520241Z",
     "iopub.status.busy": "2021-11-07T12:13:33.519901Z",
     "iopub.status.idle": "2021-11-07T12:13:33.535877Z",
     "shell.execute_reply": "2021-11-07T12:13:33.534772Z",
     "shell.execute_reply.started": "2021-11-07T12:13:33.520210Z"
    }
   },
   "outputs": [],
   "source": [
    "optimizer = tf.keras.optimizers.Adam(0.01)\n",
    "model.compile(loss='MAPE',optimizer=optimizer, metrics=['MAPE'])"
   ]
  },
  {
   "cell_type": "code",
   "execution_count": null,
   "metadata": {},
   "outputs": [],
   "source": []
  }
 ],
 "metadata": {
  "kernelspec": {
   "display_name": "Python 3",
   "language": "python",
   "name": "python3"
  },
  "language_info": {
   "codemirror_mode": {
    "name": "ipython",
    "version": 3
   },
   "file_extension": ".py",
   "mimetype": "text/x-python",
   "name": "python",
   "nbconvert_exporter": "python",
   "pygments_lexer": "ipython3",
   "version": "3.8.8"
  }
 },
 "nbformat": 4,
 "nbformat_minor": 4
}
